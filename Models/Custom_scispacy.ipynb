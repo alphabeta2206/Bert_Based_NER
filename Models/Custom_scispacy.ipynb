{
 "cells": [
  {
   "cell_type": "code",
   "execution_count": 1,
   "metadata": {},
   "outputs": [],
   "source": [
    "import spacy\n",
    "import scispacy\n",
    "from scispacy.abbreviation import AbbreviationDetector\n",
    "from scispacy.linking import EntityLinker\n",
    "from scispacy.hyponym_detector import HyponymDetector\n",
    "import pandas as pd\n",
    "from spacy import displacy\n",
    "import en_core_sci_sm\n",
    "import deplacy\n",
    "from spacy.pipeline import EntityRuler"
   ]
  },
  {
   "cell_type": "code",
   "execution_count": 3,
   "metadata": {},
   "outputs": [],
   "source": [
    "pattern = [\n",
    "    {\"label\":\"CVD\",\"pattern\":\"cardiomyopathies\"},\n",
    "    {\"label\":\"CVD\",\"pattern\":\"angina\"},\n",
    "    {\"label\":\"CVD\",\"pattern\":\"arrhythmia\"},\n",
    "    {\"label\":\"CVD\",\"pattern\":\"dilated cardiomyopathy\"},\n",
    "    {\"label\":\"CVD\",\"pattern\":\"hypertrophic cardiomyopathy\"},\n",
    "    {\"label\":\"CVD\",\"pattern\":\"mitral regurgitation\"},\n",
    "    {\"label\":\"CVD\",\"pattern\":\"mitral valve prolapse\"},\n",
    "    {\"label\":\"CVD\",\"pattern\":\"pulmonary stenosis\"},\n",
    "    {\"label\":\"CVD\",\"pattern\":\"aortic stenosis\"},\n",
    "    {\"label\":\"CVD\",\"pattern\":\"atrial fibrillation\"},\n",
    "    {\"label\":\"CVD\",\"pattern\":\"peripheral artery disease\"},\n",
    "    {\"label\":\"CVD\",\"pattern\":\"aneurysm\"},\n",
    "    {\"label\":\"CVD\",\"pattern\":\"atherosclerosis\"},\n",
    "    {\"label\":\"CVD\",\"pattern\":\"raynaud’s disease\"},\n",
    "    {\"label\":\"CVD\",\"pattern\":\"peripheral venous disease\"},\n",
    "    {\"label\":\"CVD\",\"pattern\":\"ischemic stroke\"},\n",
    "    {\"label\":\"CVD\",\"pattern\":\"venous blood clots\"},\n",
    "    {\"label\":\"CVD\",\"pattern\":\"buerger’s disease\"},\n",
    "    \n",
    "    {\"label\":\"Drug\",\"pattern\":\"statins\"},\n",
    "    {\"label\":\"Drug\",\"pattern\":\"aspirin\"},\n",
    "    {\"label\":\"Drug\",\"pattern\":\"clopidogrel\"},\n",
    "    {\"label\":\"Drug\",\"pattern\":\"warfarin\"},\n",
    "    {\"label\":\"Drug\",\"pattern\":\"beta-blockers\"},\n",
    "    {\"label\":\"Drug\",\"pattern\":\"ACE inhibitors\"},\n",
    "    {\"label\":\"Drug\",\"pattern\":\"apixaban\"},\n",
    "    {\"label\":\"Drug\",\"pattern\":\"dabigatran\"},\n",
    "    {\"label\":\"Drug\",\"pattern\":\"edoxaban\"},\n",
    "    {\"label\":\"Drug\",\"pattern\":\"heparin\"},\n",
    "    {\"label\":\"Drug\",\"pattern\":\"rivaroxaban\"},\n",
    "    {\"label\":\"Drug\",\"pattern\":\"dipyridamole\"},\n",
    "    {\"label\":\"Drug\",\"pattern\":\"prasugrel\"},\n",
    "    {\"label\":\"Drug\",\"pattern\":\"ticagrelor\"},\n",
    "    \n",
    "    {\"label\":\"Symptoms\",\"pattern\":\"chest pain\"},\n",
    "    {\"label\":\"Symptoms\",\"pattern\":\"chest tightness\"},\n",
    "    {\"label\":\"Symptoms\",\"pattern\":\"chest pressure\"},\n",
    "    {\"label\":\"Symptoms\",\"pattern\":\"chest discomfort\"},\n",
    "    {\"label\":\"Symptoms\",\"pattern\":\"shortness of breath\"},\n",
    "    {\"label\":\"Symptoms\",\"pattern\":\"numbness\"},\n",
    "    {\"label\":\"Symptoms\",\"pattern\":\"coldness\"},\n",
    "    {\"label\":\"Symptoms\",\"pattern\":\"neck pain\"},\n",
    "    {\"label\":\"Symptoms\",\"pattern\":\"jaw pain\"},\n",
    "    {\"label\":\"Symptoms\",\"pattern\":\"throat pain\"},\n",
    "    {\"label\":\"Symptoms\",\"pattern\":\"upper abdomen pain\"},\n",
    "    {\"label\":\"Symptoms\",\"pattern\":\"back pain\"},\n",
    "    \n",
    "    {\"label\":\"Parts of the human heart\",\"pattern\":\"superior vena cava\"},\n",
    "    {\"label\":\"Parts of the human heart\",\"pattern\":\"inferior vena cava\"},\n",
    "    {\"label\":\"Parts of the human heart\",\"pattern\":\"pulmonary vein\"},\n",
    "    {\"label\":\"Parts of the human heart\",\"pattern\":\"right atrium\"},\n",
    "    {\"label\":\"Parts of the human heart\",\"pattern\":\"pulmonary valve\"},\n",
    "    {\"label\":\"Parts of the human heart\",\"pattern\":\"tricuspid valve\"},\n",
    "    {\"label\":\"Parts of the human heart\",\"pattern\":\"right ventricle\"},\n",
    "    {\"label\":\"Parts of the human heart\",\"pattern\":\"aorta\"},\n",
    "    {\"label\":\"Parts of the human heart\",\"pattern\":\"pulmonary artery\"},\n",
    "    {\"label\":\"Parts of the human heart\",\"pattern\":\"left atrium\"},\n",
    "    {\"label\":\"Parts of the human heart\",\"pattern\":\"mitral valve\"},\n",
    "    {\"label\":\"Parts of the human heart\",\"pattern\":\"aortic valve\"},\n",
    "    {\"label\":\"Parts of the human heart\",\"pattern\":\"left ventricle\"},\n",
    "    \n",
    "    \n",
    "    {\"label\":\"Causes\",\"pattern\":\"family history\"},\n",
    "    {\"label\":\"Causes\",\"pattern\":\"smoking\"},\n",
    "    {\"label\":\"Causes\",\"pattern\":\"poor diet\"},\n",
    "    {\"label\":\"Causes\",\"pattern\":\"high blood pressure\"},\n",
    "    {\"label\":\"Causes\",\"pattern\":\"high blood cholesterol levels\"},\n",
    "    {\"label\":\"Causes\",\"pattern\":\"age\"},\n",
    "    {\"label\":\"Causes\",\"pattern\":\"sex\"},\n",
    "    {\"label\":\"Causes\",\"pattern\":\"stress\"},\n",
    "    {\"label\":\"Causes\",\"pattern\":\"obesity\"},\n",
    "    {\"label\":\"Causes\",\"pattern\":\"physical inactivity\"},\n",
    "    {\"label\":\"Causes\",\"pattern\":\"stress\"},\n",
    "    {\"label\":\"Causes\",\"pattern\":\"poor dental health\"},\n",
    "    \n",
    "    {\"label\":\"Complications\",\"pattern\":\"heart failure\"},\n",
    "    {\"label\":\"Complications\",\"pattern\":\"heart attack\"},\n",
    "    {\"label\":\"Complications\",\"pattern\":\"stroke\"},\n",
    "    {\"label\":\"Complications\",\"pattern\":\"aneurysm\"},\n",
    "    {\"label\":\"Complications\",\"pattern\":\"peripheral artery disease\"},\n",
    "    {\"label\":\"Complications\",\"pattern\":\"sudden cardiac arrest\"},\n",
    "\n",
    "    {\"label\":\"Prevention\",\"pattern\":\"healthy weight\"},\n",
    "    {\"label\":\"Prevention\",\"pattern\":\"manage stress\"},\n",
    "    {\"label\":\"Prevention\",\"pattern\":\"hygiene\"},\n",
    "    {\"label\":\"Prevention\",\"pattern\":\"exercise\"},\n",
    "    {\"label\":\"Prevention\",\"pattern\":\"diet\"},\n",
    "\n",
    "    ]"
   ]
  },
  {
   "cell_type": "code",
   "execution_count": 9,
   "metadata": {},
   "outputs": [],
   "source": [
    "text = \"Cardiomyopathies are diseases affecting the muscle of the heart.\""
   ]
  },
  {
   "cell_type": "code",
   "execution_count": 19,
   "metadata": {},
   "outputs": [],
   "source": [
    "nlp = spacy.load(\"en_ner_bionlp13cg_md\")\n",
    "ruler = nlp.add_pipe(\"entity_ruler\",after=\"ner\")"
   ]
  },
  {
   "cell_type": "code",
   "execution_count": 10,
   "metadata": {},
   "outputs": [
    {
     "name": "stdout",
     "output_type": "stream",
     "text": [
      "pipelines- ['tok2vec', 'tagger', 'attribute_ruler', 'lemmatizer', 'parser', 'ner']\n"
     ]
    }
   ],
   "source": [
    "print(\"pipelines-\",nlp.pipe_names)"
   ]
  },
  {
   "cell_type": "code",
   "execution_count": 20,
   "metadata": {},
   "outputs": [],
   "source": [
    "ruler.add_patterns(pattern)"
   ]
  },
  {
   "cell_type": "code",
   "execution_count": 21,
   "metadata": {},
   "outputs": [],
   "source": [
    "doc=nlp(text)"
   ]
  },
  {
   "cell_type": "code",
   "execution_count": 22,
   "metadata": {},
   "outputs": [
    {
     "name": "stdout",
     "output_type": "stream",
     "text": [
      "Cardiomyopathies CVD\n",
      "muscle ORGAN\n",
      "heart ORGAN\n"
     ]
    }
   ],
   "source": [
    "for ent in doc.ents:\n",
    "    print (ent.text, ent.label_)"
   ]
  },
  {
   "cell_type": "code",
   "execution_count": null,
   "metadata": {},
   "outputs": [],
   "source": []
  },
  {
   "cell_type": "code",
   "execution_count": null,
   "metadata": {},
   "outputs": [],
   "source": []
  },
  {
   "cell_type": "code",
   "execution_count": null,
   "metadata": {},
   "outputs": [],
   "source": []
  },
  {
   "cell_type": "code",
   "execution_count": null,
   "metadata": {},
   "outputs": [],
   "source": []
  }
 ],
 "metadata": {
  "interpreter": {
   "hash": "c6e4e9f98eb68ad3b7c296f83d20e6de614cb42e90992a65aa266555a3137d0d"
  },
  "kernelspec": {
   "display_name": "Python 3.9.6 64-bit ('base': conda)",
   "language": "python",
   "name": "python3"
  },
  "language_info": {
   "codemirror_mode": {
    "name": "ipython",
    "version": 3
   },
   "file_extension": ".py",
   "mimetype": "text/x-python",
   "name": "python",
   "nbconvert_exporter": "python",
   "pygments_lexer": "ipython3",
   "version": "3.8.8"
  },
  "orig_nbformat": 4
 },
 "nbformat": 4,
 "nbformat_minor": 2
}

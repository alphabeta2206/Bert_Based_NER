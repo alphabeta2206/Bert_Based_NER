{
 "cells": [
  {
   "cell_type": "code",
   "execution_count": 1,
   "metadata": {},
   "outputs": [],
   "source": [
    "import stanza"
   ]
  },
  {
   "cell_type": "code",
   "execution_count": 2,
   "metadata": {},
   "outputs": [],
   "source": [
    "with open (\"/Users/abhinavshinow/Documents/GitHub/Bert_Based_NER/Data_Collection/heart-data.txt\",\"r\") as f:\n",
    "    text=f.read().replace(\"\\n\\n\",\" \").replace(\"\\n\",\" \")\n",
    "text=text[:10000]"
   ]
  },
  {
   "cell_type": "code",
   "execution_count": 4,
   "metadata": {},
   "outputs": [
    {
     "name": "stderr",
     "output_type": "stream",
     "text": [
      "Downloading https://raw.githubusercontent.com/stanfordnlp/stanza-resources/main/resources_1.3.0.json: 142kB [00:00, 20.1MB/s]                    \n",
      "2021-11-06 18:15:07 INFO: Downloading these customized packages for language: en (English)...\n",
      "=============================\n",
      "| Processor       | Package |\n",
      "-----------------------------\n",
      "| tokenize        | mimic   |\n",
      "| pos             | mimic   |\n",
      "| lemma           | mimic   |\n",
      "| depparse        | mimic   |\n",
      "| ner             | i2b2    |\n",
      "| backward_charlm | mimic   |\n",
      "| forward_charlm  | mimic   |\n",
      "| pretrain        | mimic   |\n",
      "=============================\n",
      "\n",
      "Downloading https://huggingface.co/stanfordnlp/stanza-en/resolve/v1.3.0/models/tokenize/mimic.pt: 100%|██████████| 645k/645k [00:00<00:00, 665kB/s]\n",
      "Downloading https://huggingface.co/stanfordnlp/stanza-en/resolve/v1.3.0/models/pos/mimic.pt: 100%|██████████| 20.8M/20.8M [00:23<00:00, 874kB/s]\n",
      "Downloading https://huggingface.co/stanfordnlp/stanza-en/resolve/v1.3.0/models/lemma/mimic.pt: 100%|██████████| 4.19M/4.19M [00:03<00:00, 1.18MB/s]\n",
      "Downloading https://huggingface.co/stanfordnlp/stanza-en/resolve/v1.3.0/models/depparse/mimic.pt:  14%|█▍        | 15.7M/109M [00:31<08:30, 182kB/s]"
     ]
    }
   ],
   "source": [
    "stanza.download('en', package='mimic', processors={'ner': 'i2b2'})"
   ]
  }
 ],
 "metadata": {
  "interpreter": {
   "hash": "4bd624a0593993fe43ac4046b27b898fb2ef75c21c08f81e89e64ea0f51df676"
  },
  "kernelspec": {
   "display_name": "Python 3.9.7 64-bit ('tensorflow': conda)",
   "name": "python3"
  },
  "language_info": {
   "codemirror_mode": {
    "name": "ipython",
    "version": 3
   },
   "file_extension": ".py",
   "mimetype": "text/x-python",
   "name": "python",
   "nbconvert_exporter": "python",
   "pygments_lexer": "ipython3",
   "version": "3.9.7"
  },
  "orig_nbformat": 4
 },
 "nbformat": 4,
 "nbformat_minor": 2
}

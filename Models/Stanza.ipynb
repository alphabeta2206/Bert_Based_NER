{
 "cells": [
  {
   "cell_type": "code",
   "execution_count": 1,
   "metadata": {},
   "outputs": [],
   "source": [
    "import stanza\n",
    "import pandas as pd\n",
    "import networkx as nx\n",
    "import matplotlib.pyplot as plt"
   ]
  },
  {
   "cell_type": "code",
   "execution_count": 2,
   "metadata": {},
   "outputs": [],
   "source": [
    "with open (\"/Users/abhinavshinow/Documents/GitHub/KG-Genaration-from-Biomedical-Text-Using-NER/Data_Collection/heart-data.txt\",\"r\") as f:\n",
    "    text=f.read().replace(\"\\n\\n\",\" \").replace(\"\\n\",\" \")\n",
    "text=text[:1000]"
   ]
  },
  {
   "cell_type": "code",
   "execution_count": 4,
   "metadata": {},
   "outputs": [
    {
     "name": "stderr",
     "output_type": "stream",
     "text": [
      "Downloading https://raw.githubusercontent.com/stanfordnlp/stanza-resources/main/resources_1.3.0.json: 142kB [00:00, 20.1MB/s]                    \n",
      "2021-11-06 18:15:07 INFO: Downloading these customized packages for language: en (English)...\n",
      "=============================\n",
      "| Processor       | Package |\n",
      "-----------------------------\n",
      "| tokenize        | mimic   |\n",
      "| pos             | mimic   |\n",
      "| lemma           | mimic   |\n",
      "| depparse        | mimic   |\n",
      "| ner             | i2b2    |\n",
      "| backward_charlm | mimic   |\n",
      "| forward_charlm  | mimic   |\n",
      "| pretrain        | mimic   |\n",
      "=============================\n",
      "\n",
      "Downloading https://huggingface.co/stanfordnlp/stanza-en/resolve/v1.3.0/models/tokenize/mimic.pt: 100%|██████████| 645k/645k [00:00<00:00, 665kB/s]\n",
      "Downloading https://huggingface.co/stanfordnlp/stanza-en/resolve/v1.3.0/models/pos/mimic.pt: 100%|██████████| 20.8M/20.8M [00:23<00:00, 874kB/s]\n",
      "Downloading https://huggingface.co/stanfordnlp/stanza-en/resolve/v1.3.0/models/lemma/mimic.pt: 100%|██████████| 4.19M/4.19M [00:03<00:00, 1.18MB/s]\n",
      "Downloading https://huggingface.co/stanfordnlp/stanza-en/resolve/v1.3.0/models/depparse/mimic.pt: 100%|██████████| 109M/109M [03:57<00:00, 458kB/s]\n",
      "Downloading https://huggingface.co/stanfordnlp/stanza-en/resolve/v1.3.0/models/ner/i2b2.pt: 100%|██████████| 123M/123M [01:47<00:00, 1.15MB/s]\n",
      "Downloading https://huggingface.co/stanfordnlp/stanza-en/resolve/v1.3.0/models/backward_charlm/mimic.pt: 100%|██████████| 18.9M/18.9M [00:21<00:00, 887kB/s] \n",
      "Downloading https://huggingface.co/stanfordnlp/stanza-en/resolve/v1.3.0/models/forward_charlm/mimic.pt: 100%|██████████| 18.9M/18.9M [00:19<00:00, 968kB/s]\n",
      "Downloading https://huggingface.co/stanfordnlp/stanza-en/resolve/v1.3.0/models/pretrain/mimic.pt: 100%|██████████| 82.7M/82.7M [01:18<00:00, 1.05MB/s]\n",
      "2021-11-06 18:23:44 INFO: Finished downloading models and saved to /Users/abhinavshinow/stanza_resources.\n"
     ]
    }
   ],
   "source": [
    "# stanza.download('en', package='mimic', processors={'ner': 'i2b2'})"
   ]
  },
  {
   "cell_type": "code",
   "execution_count": 3,
   "metadata": {},
   "outputs": [
    {
     "name": "stderr",
     "output_type": "stream",
     "text": [
      "2021-12-11 07:26:57 INFO: Loading these models for language: en (English):\n",
      "=======================\n",
      "| Processor | Package |\n",
      "-----------------------\n",
      "| tokenize  | mimic   |\n",
      "| pos       | mimic   |\n",
      "| lemma     | mimic   |\n",
      "| depparse  | mimic   |\n",
      "| ner       | i2b2    |\n",
      "=======================\n",
      "\n",
      "2021-12-11 07:26:57 INFO: Use device: cpu\n",
      "2021-12-11 07:26:57 INFO: Loading: tokenize\n",
      "2021-12-11 07:26:57 INFO: Loading: pos\n",
      "2021-12-11 07:26:58 INFO: Loading: lemma\n",
      "2021-12-11 07:26:58 INFO: Loading: depparse\n",
      "2021-12-11 07:26:58 INFO: Loading: ner\n",
      "2021-12-11 07:26:58 INFO: Done loading processors!\n"
     ]
    }
   ],
   "source": [
    "nlp = stanza.Pipeline('en', package='mimic', processors={'ner': 'i2b2'})"
   ]
  },
  {
   "cell_type": "code",
   "execution_count": 4,
   "metadata": {},
   "outputs": [],
   "source": [
    "doc=nlp(text)"
   ]
  },
  {
   "cell_type": "code",
   "execution_count": 5,
   "metadata": {},
   "outputs": [
    {
     "name": "stdout",
     "output_type": "stream",
     "text": [
      "PROBLEM\n",
      "PROBLEM\n",
      "PROBLEM\n",
      "PROBLEM\n",
      "PROBLEM\n",
      "PROBLEM\n",
      "PROBLEM\n",
      "PROBLEM\n",
      "PROBLEM\n",
      "PROBLEM\n",
      "PROBLEM\n",
      "PROBLEM\n",
      "PROBLEM\n",
      "PROBLEM\n",
      "PROBLEM\n",
      "PROBLEM\n",
      "PROBLEM\n",
      "PROBLEM\n",
      "PROBLEM\n",
      "PROBLEM\n",
      "PROBLEM\n",
      "PROBLEM\n",
      "PROBLEM\n",
      "PROBLEM\n",
      "PROBLEM\n",
      "PROBLEM\n",
      "PROBLEM\n",
      "PROBLEM\n",
      "PROBLEM\n",
      "PROBLEM\n",
      "PROBLEM\n",
      "PROBLEM\n",
      "TEST\n",
      "PROBLEM\n",
      "PROBLEM\n",
      "PROBLEM\n"
     ]
    }
   ],
   "source": [
    "for ent in doc.entities:\n",
    "    print(ent.type)"
   ]
  },
  {
   "cell_type": "code",
   "execution_count": 6,
   "metadata": {},
   "outputs": [
    {
     "name": "stdout",
     "output_type": "stream",
     "text": [
      "('\"', 9, 'punct')\n",
      "('Cardiovascular', 3, 'compound')\n",
      "('disease', 9, 'nsubj')\n",
      "('(', 5, 'punct')\n",
      "('CVD', 3, 'appos')\n",
      "(')', 5, 'punct')\n",
      "('is', 9, 'cop')\n",
      "('a', 9, 'det')\n",
      "('class', 0, 'root')\n",
      "('of', 11, 'case')\n",
      "('diseases', 9, 'nmod')\n",
      "('that', 13, 'nsubj')\n",
      "('involve', 11, 'acl:relcl')\n",
      "('the', 15, 'det')\n",
      "('heart', 13, 'obj')\n",
      "('or', 18, 'cc')\n",
      "('blood', 18, 'compound')\n",
      "('vessels', 15, 'conj')\n",
      "('.', 9, 'punct')\n",
      "('CVD', 2, 'nsubj')\n",
      "('includes', 0, 'root')\n",
      "('coronary', 5, 'compound')\n",
      "('artery', 5, 'compound')\n",
      "('diseases', 2, 'obj')\n",
      "('(', 7, 'punct')\n",
      "('CAD', 5, 'appos')\n",
      "(')', 7, 'punct')\n",
      "('such', 11, 'case')\n",
      "('as', 9, 'fixed')\n",
      "('angina', 5, 'nmod')\n",
      "('and', 14, 'cc')\n",
      "('myocardial', 14, 'amod')\n",
      "('infarction', 11, 'conj')\n",
      "('(', 17, 'punct')\n",
      "('commonly', 17, 'advmod')\n",
      "('known', 11, 'acl')\n",
      "('as', 21, 'case')\n",
      "('a', 21, 'det')\n",
      "('heart', 21, 'compound')\n",
      "('attack', 17, 'obl')\n",
      "(')', 17, 'punct')\n",
      "('.', 2, 'punct')\n",
      "('Other', 2, 'amod')\n",
      "('CVDs', 3, 'nsubj')\n",
      "('include', 0, 'root')\n",
      "('stroke', 3, 'obj')\n",
      "(',', 7, 'punct')\n",
      "('heart', 7, 'compound')\n",
      "('failure', 4, 'conj')\n",
      "(',', 11, 'punct')\n",
      "('hypertensive', 11, 'amod')\n",
      "('heart', 11, 'compound')\n",
      "('disease', 4, 'conj')\n",
      "(',', 15, 'punct')\n",
      "('rheumatic', 15, 'amod')\n",
      "('heart', 15, 'compound')\n",
      "('disease', 4, 'conj')\n",
      "(',', 17, 'punct')\n",
      "('cardiomyopathy', 4, 'conj')\n",
      "(',', 21, 'punct')\n",
      "('abnormal', 21, 'amod')\n",
      "('heart', 21, 'compound')\n",
      "('rhythms', 4, 'conj')\n",
      "(',', 25, 'punct')\n",
      "('congenital', 25, 'amod')\n",
      "('heart', 25, 'compound')\n",
      "('disease', 4, 'conj')\n",
      "(',', 29, 'punct')\n",
      "('valvular', 29, 'amod')\n",
      "('heart', 29, 'compound')\n",
      "('disease', 4, 'conj')\n",
      "(',', 31, 'punct')\n",
      "('carditis', 4, 'conj')\n",
      "(',', 34, 'punct')\n",
      "('aortic', 34, 'amod')\n",
      "('aneurysms', 4, 'conj')\n",
      "(',', 38, 'punct')\n",
      "('peripheral', 38, 'amod')\n",
      "('artery', 38, 'compound')\n",
      "('disease', 4, 'conj')\n",
      "(',', 41, 'punct')\n",
      "('thromboembolic', 41, 'amod')\n",
      "('disease', 4, 'conj')\n",
      "(',', 45, 'punct')\n",
      "('and', 45, 'cc')\n",
      "('venous', 45, 'amod')\n",
      "('thrombosis', 4, 'conj')\n",
      "('.', 3, 'punct')\n",
      "('The', 3, 'det')\n",
      "('underlying', 3, 'amod')\n",
      "('mechanisms', 4, 'nsubj')\n",
      "('vary', 0, 'root')\n",
      "('depending', 8, 'case')\n",
      "('on', 8, 'case')\n",
      "('the', 8, 'det')\n",
      "('disease', 4, 'obl')\n",
      "('.', 4, 'punct')\n",
      "('Coronary', 2, 'compound')\n",
      "('artery', 3, 'compound')\n",
      "('disease', 11, 'nsubj')\n",
      "(',', 5, 'punct')\n",
      "('stroke', 3, 'conj')\n",
      "(',', 10, 'punct')\n",
      "('and', 10, 'cc')\n",
      "('peripheral', 9, 'amod')\n",
      "('artery', 10, 'compound')\n",
      "('disease', 3, 'conj')\n",
      "('involve', 0, 'root')\n",
      "('atherosclerosis', 11, 'obj')\n",
      "('.', 11, 'punct')\n",
      "('This', 4, 'nsubj:pass')\n",
      "('may', 4, 'aux')\n",
      "('be', 4, 'aux:pass')\n",
      "('caused', 0, 'root')\n",
      "('by', 8, 'case')\n",
      "('high', 8, 'amod')\n",
      "('blood', 8, 'compound')\n",
      "('pressure', 4, 'obl')\n",
      "(',', 10, 'punct')\n",
      "('smoking', 8, 'conj')\n",
      "(',', 13, 'punct')\n",
      "('diabetes', 13, 'compound')\n",
      "('mellitus', 8, 'conj')\n",
      "(',', 15, 'punct')\n",
      "('lack', 8, 'conj')\n",
      "('of', 17, 'case')\n",
      "('exercise', 15, 'nmod')\n",
      "(',', 19, 'punct')\n",
      "('obesity', 8, 'conj')\n",
      "(',', 23, 'punct')\n",
      "('high', 23, 'amod')\n",
      "('blood', 23, 'compound')\n",
      "('cholesterol', 8, 'conj')\n",
      "(',', 26, 'punct')\n",
      "('poor', 26, 'amod')\n",
      "('diet', 8, 'conj')\n",
      "(',', 30, 'punct')\n",
      "('excessive', 30, 'amod')\n",
      "('alcohol', 30, 'compound')\n",
      "('consumption', 8, 'conj')\n",
      "(',', 34, 'punct')\n",
      "('and', 34, 'cc')\n",
      "('poor', 34, 'amod')\n",
      "('sleep', 8, 'conj')\n",
      "(',', 8, 'punct')\n",
      "('among', 37, 'case')\n",
      "('others', 34, 'nmod')\n",
      "('.', 4, 'punct')\n",
      "('High', 3, 'amod')\n",
      "('blood', 3, 'compound')\n",
      "('pressure', 5, 'nsubj:pass')\n",
      "('is', 5, 'aux:pass')\n",
      "('estimated', 0, 'root')\n",
      "('to', 7, 'mark')\n",
      "('account', 5, 'xcomp')\n",
      "('for', 11, 'case')\n",
      "('approximately', 10, 'advmod')\n",
      "('13', 11, 'nummod')\n",
      "('%', 7, 'obl')\n",
      "('of', 14, 'case')\n",
      "('CVD', 14, 'compound')\n",
      "('deaths', 11, 'nmod')\n",
      "(',', 7, 'punct')\n",
      "('while', 18, 'mark')\n",
      "('tobacco', 18, 'compound')\n",
      "('accounts', 7, 'advcl')\n",
      "('for', 21, 'case')\n",
      "('9', 21, 'nummod')\n",
      "('%', 18, 'nmod')\n",
      "(',', 23, 'punct')\n",
      "('diabetes', 21, 'conj')\n",
      "('6', 25, 'nummod')\n",
      "('%', 21, 'conj')\n",
      "(',', 27, 'punct')\n",
      "('lack', 18, 'conj')\n",
      "('of', 29, 'case')\n",
      "('exercise', 27, 'nmod')\n",
      "('6', 31, 'nummod')\n",
      "('%', 27, 'nmod')\n",
      "('and', 33, 'cc')\n",
      "('obesity', 31, 'conj')\n",
      "('5', 35, 'nummod')\n",
      "('%', 31, 'conj')\n"
     ]
    }
   ],
   "source": [
    "for sent in doc.sentences:\n",
    "    sent.print_dependencies()"
   ]
  },
  {
   "cell_type": "code",
   "execution_count": 7,
   "metadata": {},
   "outputs": [],
   "source": [
    "texts =[[]]\n",
    "ners =[[]]\n",
    "for sent in doc.ents:\n",
    "    text=[]\n",
    "    ner=[]\n",
    "    for token in sent.tokens:\n",
    "        text.append(token.text)\n",
    "        ner.append(token.ner)\n",
    "    texts.append(text)\n",
    "    ners.append(ner)"
   ]
  },
  {
   "cell_type": "code",
   "execution_count": 8,
   "metadata": {},
   "outputs": [
    {
     "data": {
      "text/plain": [
       "[[],\n",
       " ['B-PROBLEM', 'I-PROBLEM', 'I-PROBLEM', 'E-PROBLEM'],\n",
       " ['S-PROBLEM'],\n",
       " ['S-PROBLEM'],\n",
       " ['B-PROBLEM', 'I-PROBLEM', 'E-PROBLEM'],\n",
       " ['S-PROBLEM'],\n",
       " ['S-PROBLEM'],\n",
       " ['B-PROBLEM', 'E-PROBLEM'],\n",
       " ['B-PROBLEM', 'I-PROBLEM', 'I-PROBLEM', 'E-PROBLEM'],\n",
       " ['B-PROBLEM', 'E-PROBLEM'],\n",
       " ['S-PROBLEM'],\n",
       " ['B-PROBLEM', 'E-PROBLEM'],\n",
       " ['B-PROBLEM', 'I-PROBLEM', 'E-PROBLEM'],\n",
       " ['B-PROBLEM', 'I-PROBLEM', 'E-PROBLEM'],\n",
       " ['S-PROBLEM'],\n",
       " ['B-PROBLEM', 'I-PROBLEM', 'E-PROBLEM'],\n",
       " ['B-PROBLEM', 'I-PROBLEM', 'E-PROBLEM'],\n",
       " ['B-PROBLEM', 'I-PROBLEM', 'E-PROBLEM'],\n",
       " ['S-PROBLEM'],\n",
       " ['B-PROBLEM', 'E-PROBLEM'],\n",
       " ['B-PROBLEM', 'I-PROBLEM', 'E-PROBLEM'],\n",
       " ['B-PROBLEM', 'E-PROBLEM'],\n",
       " ['B-PROBLEM', 'E-PROBLEM'],\n",
       " ['B-PROBLEM', 'I-PROBLEM', 'E-PROBLEM'],\n",
       " ['B-PROBLEM', 'E-PROBLEM'],\n",
       " ['B-PROBLEM', 'I-PROBLEM', 'E-PROBLEM'],\n",
       " ['S-PROBLEM'],\n",
       " ['B-PROBLEM', 'I-PROBLEM', 'E-PROBLEM'],\n",
       " ['S-PROBLEM'],\n",
       " ['B-PROBLEM', 'I-PROBLEM', 'E-PROBLEM'],\n",
       " ['B-PROBLEM', 'E-PROBLEM'],\n",
       " ['S-PROBLEM'],\n",
       " ['B-PROBLEM', 'I-PROBLEM', 'E-PROBLEM'],\n",
       " ['B-TEST', 'I-TEST', 'E-TEST'],\n",
       " ['B-PROBLEM', 'E-PROBLEM'],\n",
       " ['S-PROBLEM'],\n",
       " ['S-PROBLEM']]"
      ]
     },
     "execution_count": 8,
     "metadata": {},
     "output_type": "execute_result"
    }
   ],
   "source": [
    "ners"
   ]
  },
  {
   "cell_type": "code",
   "execution_count": 9,
   "metadata": {},
   "outputs": [
    {
     "data": {
      "text/plain": [
       "[[],\n",
       " ['Cardiovascular', 'disease', '(', 'CVD'],\n",
       " ['diseases'],\n",
       " ['CVD'],\n",
       " ['coronary', 'artery', 'diseases'],\n",
       " ['CAD'],\n",
       " ['angina'],\n",
       " ['myocardial', 'infarction'],\n",
       " ['a', 'heart', 'attack', ')'],\n",
       " ['Other', 'CVDs'],\n",
       " ['stroke'],\n",
       " ['heart', 'failure'],\n",
       " ['hypertensive', 'heart', 'disease'],\n",
       " ['rheumatic', 'heart', 'disease'],\n",
       " ['cardiomyopathy'],\n",
       " ['abnormal', 'heart', 'rhythms'],\n",
       " ['congenital', 'heart', 'disease'],\n",
       " ['valvular', 'heart', 'disease'],\n",
       " ['carditis'],\n",
       " ['aortic', 'aneurysms'],\n",
       " ['peripheral', 'artery', 'disease'],\n",
       " ['thromboembolic', 'disease'],\n",
       " ['venous', 'thrombosis'],\n",
       " ['The', 'underlying', 'mechanisms'],\n",
       " ['the', 'disease'],\n",
       " ['Coronary', 'artery', 'disease'],\n",
       " ['stroke'],\n",
       " ['peripheral', 'artery', 'disease'],\n",
       " ['atherosclerosis'],\n",
       " ['high', 'blood', 'pressure'],\n",
       " ['diabetes', 'mellitus'],\n",
       " ['obesity'],\n",
       " ['high', 'blood', 'cholesterol'],\n",
       " ['High', 'blood', 'pressure'],\n",
       " ['CVD', 'deaths'],\n",
       " ['diabetes'],\n",
       " ['obesity']]"
      ]
     },
     "execution_count": 9,
     "metadata": {},
     "output_type": "execute_result"
    }
   ],
   "source": [
    "texts"
   ]
  },
  {
   "cell_type": "code",
   "execution_count": 10,
   "metadata": {},
   "outputs": [],
   "source": [
    "pattern = [['B-PROBLEM', 'I-PROBLEM', 'E-PROBLEM'],['B-TREATMENT', 'I-TREATMENT', 'E-TREATMENT'],['B-TEST', 'I-TEST', 'E-TEST']]\n",
    "sources =[]\n",
    "relations = []\n",
    "targets =[]\n",
    "for val in ners:\n",
    "    if val in pattern:\n",
    "        if texts[ners.index(val)][0] not in sources:\n",
    "            sources.append(texts[ners.index(val)][0])\n",
    "            relations.append(texts[ners.index(val)][1])\n",
    "            targets.append(texts[ners.index(val)][2])    "
   ]
  },
  {
   "cell_type": "code",
   "execution_count": 11,
   "metadata": {},
   "outputs": [],
   "source": [
    "df=pd.DataFrame({'source-node':sources,'target-node':targets,'relation':relations})"
   ]
  },
  {
   "cell_type": "code",
   "execution_count": 12,
   "metadata": {},
   "outputs": [
    {
     "data": {
      "text/plain": [
       "artery    1\n",
       "blood     1\n",
       "Name: relation, dtype: int64"
      ]
     },
     "execution_count": 12,
     "metadata": {},
     "output_type": "execute_result"
    }
   ],
   "source": [
    "df['relation'].value_counts()[:50]"
   ]
  },
  {
   "cell_type": "code",
   "execution_count": 13,
   "metadata": {},
   "outputs": [
    {
     "data": {
      "text/html": [
       "<div>\n",
       "<style scoped>\n",
       "    .dataframe tbody tr th:only-of-type {\n",
       "        vertical-align: middle;\n",
       "    }\n",
       "\n",
       "    .dataframe tbody tr th {\n",
       "        vertical-align: top;\n",
       "    }\n",
       "\n",
       "    .dataframe thead th {\n",
       "        text-align: right;\n",
       "    }\n",
       "</style>\n",
       "<table border=\"1\" class=\"dataframe\">\n",
       "  <thead>\n",
       "    <tr style=\"text-align: right;\">\n",
       "      <th></th>\n",
       "      <th>source-node</th>\n",
       "      <th>target-node</th>\n",
       "      <th>relation</th>\n",
       "    </tr>\n",
       "  </thead>\n",
       "  <tbody>\n",
       "    <tr>\n",
       "      <th>0</th>\n",
       "      <td>coronary</td>\n",
       "      <td>diseases</td>\n",
       "      <td>artery</td>\n",
       "    </tr>\n",
       "    <tr>\n",
       "      <th>1</th>\n",
       "      <td>High</td>\n",
       "      <td>pressure</td>\n",
       "      <td>blood</td>\n",
       "    </tr>\n",
       "  </tbody>\n",
       "</table>\n",
       "</div>"
      ],
      "text/plain": [
       "  source-node target-node relation\n",
       "0    coronary    diseases   artery\n",
       "1        High    pressure    blood"
      ]
     },
     "execution_count": 13,
     "metadata": {},
     "output_type": "execute_result"
    }
   ],
   "source": [
    "df"
   ]
  },
  {
   "cell_type": "code",
   "execution_count": 14,
   "metadata": {},
   "outputs": [
    {
     "data": {
      "image/png": "[encoded data removed]",
      "text/plain": [
       "<Figure size 1440x1440 with 1 Axes>"
      ]
     },
     "metadata": {},
     "output_type": "display_data"
    }
   ],
   "source": [
    "Knowledge_graph=nx.from_pandas_edgelist(df, 'source-node', 'target-node', edge_attr=True, create_using=nx.MultiDiGraph())\n",
    "for n in Knowledge_graph.nodes():\n",
    "    Knowledge_graph.nodes[n]['color'] = 'red' if n in sources else 'skyblue'\n",
    "\n",
    "plt.figure(figsize=(20,20))\n",
    "colors = [node[1]['color'] for node in Knowledge_graph.nodes(data=True)]\n",
    "pos = nx.spring_layout(Knowledge_graph)\n",
    "nx.draw(Knowledge_graph, with_labels=True, node_color=colors, edge_cmap=plt.cm.Blues, pos = pos)\n",
    "plt.show()"
   ]
  },
  {
   "cell_type": "code",
   "execution_count": null,
   "metadata": {},
   "outputs": [],
   "source": []
  }
 ],
 "metadata": {
  "interpreter": {
   "hash": "4bd624a0593993fe43ac4046b27b898fb2ef75c21c08f81e89e64ea0f51df676"
  },
  "kernelspec": {
   "display_name": "Python 3.9.7 64-bit ('tensorflow': conda)",
   "name": "python3"
  },
  "language_info": {
   "codemirror_mode": {
    "name": "ipython",
    "version": 3
   },
   "file_extension": ".py",
   "mimetype": "text/x-python",
   "name": "python",
   "nbconvert_exporter": "python",
   "pygments_lexer": "ipython3",
   "version": "3.9.7"
  },
  "orig_nbformat": 4
 },
 "nbformat": 4,
 "nbformat_minor": 2
}

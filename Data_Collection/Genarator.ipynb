{
 "cells": [
  {
   "cell_type": "code",
   "execution_count": 1,
   "metadata": {},
   "outputs": [],
   "source": [
    "import scraper\n",
    "import pandas as pd\n",
    "import numpy as np"
   ]
  },
  {
   "cell_type": "code",
   "execution_count": 4,
   "metadata": {},
   "outputs": [
    {
     "name": "stderr",
     "output_type": "stream",
     "text": [
      "Links Scraped: 100%|██████████| 605/605 [03:18<00:00,  3.05/s]"
     ]
    },
    {
     "name": "stdout",
     "output_type": "stream",
     "text": [
      "Wikipedia pages scraped: 593\n"
     ]
    },
    {
     "name": "stderr",
     "output_type": "stream",
     "text": [
      "\n"
     ]
    }
   ],
   "source": [
    "df=scraper.wiki_scrape('Heart Disease')"
   ]
  },
  {
   "cell_type": "code",
   "execution_count": 12,
   "metadata": {},
   "outputs": [
    {
     "data": {
      "text/html": [
       "<div>\n",
       "<style scoped>\n",
       "    .dataframe tbody tr th:only-of-type {\n",
       "        vertical-align: middle;\n",
       "    }\n",
       "\n",
       "    .dataframe tbody tr th {\n",
       "        vertical-align: top;\n",
       "    }\n",
       "\n",
       "    .dataframe thead th {\n",
       "        text-align: right;\n",
       "    }\n",
       "</style>\n",
       "<table border=\"1\" class=\"dataframe\">\n",
       "  <thead>\n",
       "    <tr style=\"text-align: right;\">\n",
       "      <th></th>\n",
       "      <th>page</th>\n",
       "      <th>text</th>\n",
       "      <th>link</th>\n",
       "      <th>categories</th>\n",
       "      <th>topic</th>\n",
       "    </tr>\n",
       "  </thead>\n",
       "  <tbody>\n",
       "    <tr>\n",
       "      <th>0</th>\n",
       "      <td>Heart Disease</td>\n",
       "      <td>Cardiovascular disease (CVD) is a class of dis...</td>\n",
       "      <td>https://en.wikipedia.org/wiki/Cardiovascular_d...</td>\n",
       "      <td>[All Wikipedia articles in need of updating, A...</td>\n",
       "      <td>Heart Disease</td>\n",
       "    </tr>\n",
       "    <tr>\n",
       "      <th>1</th>\n",
       "      <td>AL amyloidosis</td>\n",
       "      <td>Amyloid light-chain (AL) amyloidosis, also kno...</td>\n",
       "      <td>https://en.wikipedia.org/wiki/AL_amyloidosis</td>\n",
       "      <td>[Amyloidosis, Articles with short description,...</td>\n",
       "      <td>Heart Disease</td>\n",
       "    </tr>\n",
       "    <tr>\n",
       "      <th>2</th>\n",
       "      <td>ABIM Foundation</td>\n",
       "      <td>Choosing Wisely is a United States-based healt...</td>\n",
       "      <td>https://en.wikipedia.org/wiki/Choosing_Wisely</td>\n",
       "      <td>[All articles with dead external links, Altern...</td>\n",
       "      <td>Heart Disease</td>\n",
       "    </tr>\n",
       "    <tr>\n",
       "      <th>3</th>\n",
       "      <td>AV nodal reentrant tachycardia</td>\n",
       "      <td>AV-nodal reentrant tachycardia (AVNRT) is a ty...</td>\n",
       "      <td>https://en.wikipedia.org/wiki/AV_nodal_reentra...</td>\n",
       "      <td>[All articles with unsourced statements, Artic...</td>\n",
       "      <td>Heart Disease</td>\n",
       "    </tr>\n",
       "    <tr>\n",
       "      <th>4</th>\n",
       "      <td>2,3,7,8-Tetrachlorodibenzodioxin</td>\n",
       "      <td>2,3,7,8-Tetrachlorodibenzo-p-dioxin (TCDD) is ...</td>\n",
       "      <td>https://en.wikipedia.org/wiki/2,3,7,8-Tetrachl...</td>\n",
       "      <td>[All articles with dead external links, All ar...</td>\n",
       "      <td>Heart Disease</td>\n",
       "    </tr>\n",
       "  </tbody>\n",
       "</table>\n",
       "</div>"
      ],
      "text/plain": [
       "                               page  \\\n",
       "0                     Heart Disease   \n",
       "1                    AL amyloidosis   \n",
       "2                   ABIM Foundation   \n",
       "3    AV nodal reentrant tachycardia   \n",
       "4  2,3,7,8-Tetrachlorodibenzodioxin   \n",
       "\n",
       "                                                text  \\\n",
       "0  Cardiovascular disease (CVD) is a class of dis...   \n",
       "1  Amyloid light-chain (AL) amyloidosis, also kno...   \n",
       "2  Choosing Wisely is a United States-based healt...   \n",
       "3  AV-nodal reentrant tachycardia (AVNRT) is a ty...   \n",
       "4  2,3,7,8-Tetrachlorodibenzo-p-dioxin (TCDD) is ...   \n",
       "\n",
       "                                                link  \\\n",
       "0  https://en.wikipedia.org/wiki/Cardiovascular_d...   \n",
       "1       https://en.wikipedia.org/wiki/AL_amyloidosis   \n",
       "2      https://en.wikipedia.org/wiki/Choosing_Wisely   \n",
       "3  https://en.wikipedia.org/wiki/AV_nodal_reentra...   \n",
       "4  https://en.wikipedia.org/wiki/2,3,7,8-Tetrachl...   \n",
       "\n",
       "                                          categories          topic  \n",
       "0  [All Wikipedia articles in need of updating, A...  Heart Disease  \n",
       "1  [Amyloidosis, Articles with short description,...  Heart Disease  \n",
       "2  [All articles with dead external links, Altern...  Heart Disease  \n",
       "3  [All articles with unsourced statements, Artic...  Heart Disease  \n",
       "4  [All articles with dead external links, All ar...  Heart Disease  "
      ]
     },
     "execution_count": 12,
     "metadata": {},
     "output_type": "execute_result"
    }
   ],
   "source": [
    "df.head()"
   ]
  },
  {
   "cell_type": "code",
   "execution_count": 6,
   "metadata": {},
   "outputs": [],
   "source": [
    "df.to_csv('heart_disease.csv')"
   ]
  },
  {
   "cell_type": "code",
   "execution_count": 7,
   "metadata": {},
   "outputs": [
    {
     "data": {
      "text/plain": [
       "<bound method Index.unique of Index(['page', 'text', 'link', 'categories', 'topic'], dtype='object')>"
      ]
     },
     "execution_count": 7,
     "metadata": {},
     "output_type": "execute_result"
    }
   ],
   "source": [
    "df.columns.unique"
   ]
  },
  {
   "cell_type": "code",
   "execution_count": 11,
   "metadata": {},
   "outputs": [],
   "source": [
    "df.drop('link',inplace=True,axis=1)"
   ]
  },
  {
   "cell_type": "code",
   "execution_count": 9,
   "metadata": {},
   "outputs": [],
   "source": [
    "df['text'].to_csv('heart-data.txt', header=None, index=None, sep=' ', mode='a')"
   ]
  },
  {
   "cell_type": "code",
   "execution_count": 15,
   "metadata": {},
   "outputs": [],
   "source": [
    "df['categories'].to_csv('heart-data-categories.txt', header=None, index=None, sep=' ', mode='a')"
   ]
  },
  {
   "cell_type": "code",
   "execution_count": 16,
   "metadata": {},
   "outputs": [],
   "source": [
    "df['topic'].to_csv('heart-data-topics.txt', header=None, index=None, sep=' ', mode='a')"
   ]
  },
  {
   "cell_type": "code",
   "execution_count": null,
   "metadata": {},
   "outputs": [],
   "source": [
    "#compile heart disease names into a json file\n",
    "#make note of other important feautures"
   ]
  },
  {
   "cell_type": "code",
   "execution_count": 10,
   "metadata": {},
   "outputs": [
    {
     "name": "stderr",
     "output_type": "stream",
     "text": [
      "Links Scraped: 100%|██████████| 504/504 [03:33<00:00,  2.36/s]"
     ]
    },
    {
     "name": "stdout",
     "output_type": "stream",
     "text": [
      "Wikipedia pages scraped: 491\n"
     ]
    },
    {
     "name": "stderr",
     "output_type": "stream",
     "text": [
      "\n"
     ]
    }
   ],
   "source": [
    "df2=scraper.wiki_scrape('Cardiology')"
   ]
  },
  {
   "cell_type": "code",
   "execution_count": 11,
   "metadata": {},
   "outputs": [
    {
     "data": {
      "text/html": [
       "<div>\n",
       "<style scoped>\n",
       "    .dataframe tbody tr th:only-of-type {\n",
       "        vertical-align: middle;\n",
       "    }\n",
       "\n",
       "    .dataframe tbody tr th {\n",
       "        vertical-align: top;\n",
       "    }\n",
       "\n",
       "    .dataframe thead th {\n",
       "        text-align: right;\n",
       "    }\n",
       "</style>\n",
       "<table border=\"1\" class=\"dataframe\">\n",
       "  <thead>\n",
       "    <tr style=\"text-align: right;\">\n",
       "      <th></th>\n",
       "      <th>page</th>\n",
       "      <th>text</th>\n",
       "      <th>link</th>\n",
       "      <th>categories</th>\n",
       "      <th>topic</th>\n",
       "    </tr>\n",
       "  </thead>\n",
       "  <tbody>\n",
       "    <tr>\n",
       "      <th>0</th>\n",
       "      <td>Cardiology</td>\n",
       "      <td>Cardiology (from Greek καρδίᾱ kardiā, \"heart\" ...</td>\n",
       "      <td>https://en.wikipedia.org/wiki/Cardiology</td>\n",
       "      <td>[All articles with unsourced statements, Artic...</td>\n",
       "      <td>Cardiology</td>\n",
       "    </tr>\n",
       "    <tr>\n",
       "      <th>1</th>\n",
       "      <td>Addiction medicine</td>\n",
       "      <td>Addiction medicine is a medical subspecialty t...</td>\n",
       "      <td>https://en.wikipedia.org/wiki/Addiction_medicine</td>\n",
       "      <td>[Addiction medicine, All articles needing addi...</td>\n",
       "      <td>Cardiology</td>\n",
       "    </tr>\n",
       "    <tr>\n",
       "      <th>2</th>\n",
       "      <td>Accreditation Council for Graduate Medical Edu...</td>\n",
       "      <td>The Accreditation Council for Graduate Medical...</td>\n",
       "      <td>https://en.wikipedia.org/wiki/Accreditation_Co...</td>\n",
       "      <td>[1981 establishments in the United States, All...</td>\n",
       "      <td>Cardiology</td>\n",
       "    </tr>\n",
       "    <tr>\n",
       "      <th>3</th>\n",
       "      <td>Acta Cardiologica</td>\n",
       "      <td>Acta Cardiologica is a bimonthly peer-reviewed...</td>\n",
       "      <td>https://en.wikipedia.org/wiki/Acta_Cardiologica</td>\n",
       "      <td>[All stub articles, Articles with outdated imp...</td>\n",
       "      <td>Cardiology</td>\n",
       "    </tr>\n",
       "    <tr>\n",
       "      <th>4</th>\n",
       "      <td>Addiction psychiatry</td>\n",
       "      <td>Addiction psychiatry is a medical subspecialty...</td>\n",
       "      <td>https://en.wikipedia.org/wiki/Addiction_psychi...</td>\n",
       "      <td>[Addiction psychiatry, Articles with limited g...</td>\n",
       "      <td>Cardiology</td>\n",
       "    </tr>\n",
       "  </tbody>\n",
       "</table>\n",
       "</div>"
      ],
      "text/plain": [
       "                                                page  \\\n",
       "0                                         Cardiology   \n",
       "1                                 Addiction medicine   \n",
       "2  Accreditation Council for Graduate Medical Edu...   \n",
       "3                                  Acta Cardiologica   \n",
       "4                               Addiction psychiatry   \n",
       "\n",
       "                                                text  \\\n",
       "0  Cardiology (from Greek καρδίᾱ kardiā, \"heart\" ...   \n",
       "1  Addiction medicine is a medical subspecialty t...   \n",
       "2  The Accreditation Council for Graduate Medical...   \n",
       "3  Acta Cardiologica is a bimonthly peer-reviewed...   \n",
       "4  Addiction psychiatry is a medical subspecialty...   \n",
       "\n",
       "                                                link  \\\n",
       "0           https://en.wikipedia.org/wiki/Cardiology   \n",
       "1   https://en.wikipedia.org/wiki/Addiction_medicine   \n",
       "2  https://en.wikipedia.org/wiki/Accreditation_Co...   \n",
       "3    https://en.wikipedia.org/wiki/Acta_Cardiologica   \n",
       "4  https://en.wikipedia.org/wiki/Addiction_psychi...   \n",
       "\n",
       "                                          categories       topic  \n",
       "0  [All articles with unsourced statements, Artic...  Cardiology  \n",
       "1  [Addiction medicine, All articles needing addi...  Cardiology  \n",
       "2  [1981 establishments in the United States, All...  Cardiology  \n",
       "3  [All stub articles, Articles with outdated imp...  Cardiology  \n",
       "4  [Addiction psychiatry, Articles with limited g...  Cardiology  "
      ]
     },
     "execution_count": 11,
     "metadata": {},
     "output_type": "execute_result"
    }
   ],
   "source": [
    "df2.head()"
   ]
  },
  {
   "cell_type": "code",
   "execution_count": 13,
   "metadata": {},
   "outputs": [],
   "source": [
    "df2['text'].to_csv('cardiology-data.txt', header=None, index=None, sep=' ', mode='a')"
   ]
  },
  {
   "cell_type": "code",
   "execution_count": 14,
   "metadata": {},
   "outputs": [],
   "source": [
    "df2.to_csv('cardiology-full.txt', header=None, index=None, sep=' ', mode='a')"
   ]
  },
  {
   "cell_type": "code",
   "execution_count": null,
   "metadata": {},
   "outputs": [],
   "source": []
  },
  {
   "cell_type": "code",
   "execution_count": null,
   "metadata": {},
   "outputs": [],
   "source": []
  },
  {
   "cell_type": "code",
   "execution_count": null,
   "metadata": {},
   "outputs": [],
   "source": []
  },
  {
   "cell_type": "code",
   "execution_count": null,
   "metadata": {},
   "outputs": [],
   "source": []
  },
  {
   "cell_type": "code",
   "execution_count": null,
   "metadata": {},
   "outputs": [],
   "source": []
  },
  {
   "cell_type": "code",
   "execution_count": null,
   "metadata": {},
   "outputs": [],
   "source": []
  },
  {
   "cell_type": "code",
   "execution_count": null,
   "metadata": {},
   "outputs": [],
   "source": []
  }
 ],
 "metadata": {
  "interpreter": {
   "hash": "4bd624a0593993fe43ac4046b27b898fb2ef75c21c08f81e89e64ea0f51df676"
  },
  "kernelspec": {
   "display_name": "Python 3.9.7 64-bit ('tensorflow': conda)",
   "name": "python3"
  },
  "language_info": {
   "codemirror_mode": {
    "name": "ipython",
    "version": 3
   },
   "file_extension": ".py",
   "mimetype": "text/x-python",
   "name": "python",
   "nbconvert_exporter": "python",
   "pygments_lexer": "ipython3",
   "version": "3.9.7"
  },
  "orig_nbformat": 4
 },
 "nbformat": 4,
 "nbformat_minor": 2
}

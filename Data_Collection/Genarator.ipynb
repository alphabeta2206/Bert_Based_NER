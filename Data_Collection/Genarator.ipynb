{
 "cells": [
  {
   "cell_type": "code",
   "execution_count": 1,
   "metadata": {},
   "outputs": [],
   "source": [
    "import scraper\n",
    "import pandas as pd\n",
    "import numpy as np"
   ]
  },
  {
   "cell_type": "code",
   "execution_count": 4,
   "metadata": {},
   "outputs": [
    {
     "name": "stderr",
     "output_type": "stream",
     "text": [
      "Links Scraped: 100%|██████████| 602/602 [02:33<00:00,  3.93/s]"
     ]
    },
    {
     "name": "stdout",
     "output_type": "stream",
     "text": [
      "Wikipedia pages scraped: 590\n"
     ]
    },
    {
     "name": "stderr",
     "output_type": "stream",
     "text": [
      "\n"
     ]
    }
   ],
   "source": [
    "df=scraper.wiki_scrape('Heart Disease')"
   ]
  },
  {
   "cell_type": "code",
   "execution_count": 5,
   "metadata": {},
   "outputs": [
    {
     "data": {
      "text/plain": [
       "<bound method NDFrame.head of                                                   page  \\\n",
       "0                                        Heart Disease   \n",
       "1                                       AL amyloidosis   \n",
       "2                                      ABIM Foundation   \n",
       "3                       AV nodal reentrant tachycardia   \n",
       "4                            Abdominal aortic aneurysm   \n",
       "..                                                 ...   \n",
       "597            Category:Articles with LCCN identifiers   \n",
       "598             Category:Articles with GND identifiers   \n",
       "599             Category:Articles with NDL identifiers   \n",
       "600        Category:Articles with multiple identifiers   \n",
       "601  Category:Wikipedia articles in need of updatin...   \n",
       "\n",
       "                                                  text  \\\n",
       "0    Cardiovascular disease (CVD) is a class of dis...   \n",
       "1    Amyloid light-chain (AL) amyloidosis, also kno...   \n",
       "2    Choosing Wisely is a United States-based healt...   \n",
       "3    AV-nodal reentrant tachycardia (AVNRT) is a ty...   \n",
       "4    Abdominal aortic aneurysm (AAA or triple A) is...   \n",
       "..                                                 ...   \n",
       "597  Pages in this category should only be added by...   \n",
       "598  Pages in this category should only be added by...   \n",
       "599  Pages in this category should only be added by...   \n",
       "600  For example, Mark Twain (Q7245) contains multi...   \n",
       "601  This category combines all Wikipedia articles ...   \n",
       "\n",
       "                                                  link  \\\n",
       "0    https://en.wikipedia.org/wiki/Cardiovascular_d...   \n",
       "1         https://en.wikipedia.org/wiki/AL_amyloidosis   \n",
       "2        https://en.wikipedia.org/wiki/Choosing_Wisely   \n",
       "3    https://en.wikipedia.org/wiki/AV_nodal_reentra...   \n",
       "4    https://en.wikipedia.org/wiki/Abdominal_aortic...   \n",
       "..                                                 ...   \n",
       "597  https://en.wikipedia.org/wiki/Category:Article...   \n",
       "598  https://en.wikipedia.org/wiki/Category:Article...   \n",
       "599  https://en.wikipedia.org/wiki/Category:Article...   \n",
       "600  https://en.wikipedia.org/wiki/Category:Article...   \n",
       "601  https://en.wikipedia.org/wiki/Category:Wikiped...   \n",
       "\n",
       "                                            categories          topic  \n",
       "0    [All Wikipedia articles in need of updating, A...  Heart Disease  \n",
       "1    [Amyloidosis, Articles with short description,...  Heart Disease  \n",
       "2    [All articles with dead external links, Altern...  Heart Disease  \n",
       "3    [All articles with unsourced statements, Artic...  Heart Disease  \n",
       "4    [All articles with unsourced statements, Artic...  Heart Disease  \n",
       "..                                                 ...            ...  \n",
       "597  [Articles with authority control information, ...  Heart Disease  \n",
       "598  [Articles with authority control information, ...  Heart Disease  \n",
       "599  [Articles with authority control information, ...  Heart Disease  \n",
       "600  [Articles with authority control information, ...  Heart Disease  \n",
       "601  [CatAutoTOC generates standard Category TOC, C...  Heart Disease  \n",
       "\n",
       "[590 rows x 5 columns]>"
      ]
     },
     "execution_count": 5,
     "metadata": {},
     "output_type": "execute_result"
    }
   ],
   "source": [
    "df.head"
   ]
  },
  {
   "cell_type": "code",
   "execution_count": 6,
   "metadata": {},
   "outputs": [],
   "source": [
    "df.to_csv('heart_disease.csv')"
   ]
  },
  {
   "cell_type": "code",
   "execution_count": 8,
   "metadata": {},
   "outputs": [
    {
     "data": {
      "text/plain": [
       "<bound method Index.unique of Index(['page', 'text', 'link', 'categories', 'topic'], dtype='object')>"
      ]
     },
     "execution_count": 8,
     "metadata": {},
     "output_type": "execute_result"
    }
   ],
   "source": [
    "df.columns.unique"
   ]
  },
  {
   "cell_type": "code",
   "execution_count": 11,
   "metadata": {},
   "outputs": [],
   "source": [
    "df.drop('link',inplace=True,axis=1)"
   ]
  },
  {
   "cell_type": "code",
   "execution_count": 17,
   "metadata": {},
   "outputs": [],
   "source": [
    "df['text'].to_csv('data.txt', header=None, index=None, sep=' ', mode='a')"
   ]
  },
  {
   "cell_type": "code",
   "execution_count": null,
   "metadata": {},
   "outputs": [],
   "source": []
  },
  {
   "cell_type": "code",
   "execution_count": null,
   "metadata": {},
   "outputs": [],
   "source": []
  },
  {
   "cell_type": "code",
   "execution_count": null,
   "metadata": {},
   "outputs": [],
   "source": []
  },
  {
   "cell_type": "code",
   "execution_count": null,
   "metadata": {},
   "outputs": [],
   "source": []
  },
  {
   "cell_type": "code",
   "execution_count": null,
   "metadata": {},
   "outputs": [],
   "source": []
  },
  {
   "cell_type": "code",
   "execution_count": null,
   "metadata": {},
   "outputs": [],
   "source": []
  },
  {
   "cell_type": "code",
   "execution_count": null,
   "metadata": {},
   "outputs": [],
   "source": []
  },
  {
   "cell_type": "code",
   "execution_count": null,
   "metadata": {},
   "outputs": [],
   "source": []
  },
  {
   "cell_type": "code",
   "execution_count": null,
   "metadata": {},
   "outputs": [],
   "source": []
  },
  {
   "cell_type": "code",
   "execution_count": null,
   "metadata": {},
   "outputs": [],
   "source": []
  },
  {
   "cell_type": "code",
   "execution_count": null,
   "metadata": {},
   "outputs": [],
   "source": []
  },
  {
   "cell_type": "code",
   "execution_count": null,
   "metadata": {},
   "outputs": [],
   "source": []
  }
 ],
 "metadata": {
  "interpreter": {
   "hash": "4bd624a0593993fe43ac4046b27b898fb2ef75c21c08f81e89e64ea0f51df676"
  },
  "kernelspec": {
   "display_name": "Python 3.9.7 64-bit ('tensorflow': conda)",
   "name": "python3"
  },
  "language_info": {
   "codemirror_mode": {
    "name": "ipython",
    "version": 3
   },
   "file_extension": ".py",
   "mimetype": "text/x-python",
   "name": "python",
   "nbconvert_exporter": "python",
   "pygments_lexer": "ipython3",
   "version": "3.9.7"
  },
  "orig_nbformat": 4
 },
 "nbformat": 4,
 "nbformat_minor": 2
}

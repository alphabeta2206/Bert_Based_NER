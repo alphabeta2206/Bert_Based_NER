{
 "cells": [
  {
   "cell_type": "code",
   "execution_count": 1,
   "metadata": {},
   "outputs": [],
   "source": [
    "import scraper\n",
    "import pandas as pd"
   ]
  },
  {
   "cell_type": "code",
   "execution_count": 2,
   "metadata": {},
   "outputs": [
    {
     "name": "stderr",
     "output_type": "stream",
     "text": [
      "Links Scraped: 100%|██████████| 682/682 [03:11<00:00,  3.56/s]"
     ]
    },
    {
     "name": "stdout",
     "output_type": "stream",
     "text": [
      "Wikipedia pages scraped: 669\n"
     ]
    },
    {
     "name": "stderr",
     "output_type": "stream",
     "text": [
      "\n"
     ]
    }
   ],
   "source": [
    "df=scraper.wiki_scrape('Heart')"
   ]
  },
  {
   "cell_type": "code",
   "execution_count": 3,
   "metadata": {},
   "outputs": [
    {
     "data": {
      "text/html": [
       "<div>\n",
       "<style scoped>\n",
       "    .dataframe tbody tr th:only-of-type {\n",
       "        vertical-align: middle;\n",
       "    }\n",
       "\n",
       "    .dataframe tbody tr th {\n",
       "        vertical-align: top;\n",
       "    }\n",
       "\n",
       "    .dataframe thead th {\n",
       "        text-align: right;\n",
       "    }\n",
       "</style>\n",
       "<table border=\"1\" class=\"dataframe\">\n",
       "  <thead>\n",
       "    <tr style=\"text-align: right;\">\n",
       "      <th></th>\n",
       "      <th>page</th>\n",
       "      <th>text</th>\n",
       "      <th>link</th>\n",
       "      <th>categories</th>\n",
       "      <th>topic</th>\n",
       "    </tr>\n",
       "  </thead>\n",
       "  <tbody>\n",
       "    <tr>\n",
       "      <th>0</th>\n",
       "      <td>Heart</td>\n",
       "      <td>The heart is a muscular organ in most animals,...</td>\n",
       "      <td>https://en.wikipedia.org/wiki/Heart</td>\n",
       "      <td>[Articles containing video clips, Articles wit...</td>\n",
       "      <td>Heart</td>\n",
       "    </tr>\n",
       "    <tr>\n",
       "      <th>1</th>\n",
       "      <td>ACTC1</td>\n",
       "      <td>ACTC1 encodes cardiac muscle alpha actin. This...</td>\n",
       "      <td>https://en.wikipedia.org/wiki/ACTC1</td>\n",
       "      <td>[Articles with short description, Genes on hum...</td>\n",
       "      <td>Heart</td>\n",
       "    </tr>\n",
       "    <tr>\n",
       "      <th>2</th>\n",
       "      <td>Absolute refractory period</td>\n",
       "      <td>Refractoriness is the fundamental property of ...</td>\n",
       "      <td>https://en.wikipedia.org/wiki/Refractory_perio...</td>\n",
       "      <td>[All articles needing additional references, A...</td>\n",
       "      <td>Heart</td>\n",
       "    </tr>\n",
       "    <tr>\n",
       "      <th>3</th>\n",
       "      <td>Accelerans nerve</td>\n",
       "      <td>The heart beats according to a rhythm set up b...</td>\n",
       "      <td>https://en.wikipedia.org/wiki/Accelerans_nerve</td>\n",
       "      <td>[All stub articles, Autonomic nervous system, ...</td>\n",
       "      <td>Heart</td>\n",
       "    </tr>\n",
       "    <tr>\n",
       "      <th>4</th>\n",
       "      <td>AV nodal reentrant tachycardia</td>\n",
       "      <td>AV-nodal reentrant tachycardia (AVNRT) is a ty...</td>\n",
       "      <td>https://en.wikipedia.org/wiki/AV_nodal_reentra...</td>\n",
       "      <td>[All articles with unsourced statements, Artic...</td>\n",
       "      <td>Heart</td>\n",
       "    </tr>\n",
       "  </tbody>\n",
       "</table>\n",
       "</div>"
      ],
      "text/plain": [
       "                             page  \\\n",
       "0                           Heart   \n",
       "1                           ACTC1   \n",
       "2      Absolute refractory period   \n",
       "3                Accelerans nerve   \n",
       "4  AV nodal reentrant tachycardia   \n",
       "\n",
       "                                                text  \\\n",
       "0  The heart is a muscular organ in most animals,...   \n",
       "1  ACTC1 encodes cardiac muscle alpha actin. This...   \n",
       "2  Refractoriness is the fundamental property of ...   \n",
       "3  The heart beats according to a rhythm set up b...   \n",
       "4  AV-nodal reentrant tachycardia (AVNRT) is a ty...   \n",
       "\n",
       "                                                link  \\\n",
       "0                https://en.wikipedia.org/wiki/Heart   \n",
       "1                https://en.wikipedia.org/wiki/ACTC1   \n",
       "2  https://en.wikipedia.org/wiki/Refractory_perio...   \n",
       "3     https://en.wikipedia.org/wiki/Accelerans_nerve   \n",
       "4  https://en.wikipedia.org/wiki/AV_nodal_reentra...   \n",
       "\n",
       "                                          categories  topic  \n",
       "0  [Articles containing video clips, Articles wit...  Heart  \n",
       "1  [Articles with short description, Genes on hum...  Heart  \n",
       "2  [All articles needing additional references, A...  Heart  \n",
       "3  [All stub articles, Autonomic nervous system, ...  Heart  \n",
       "4  [All articles with unsourced statements, Artic...  Heart  "
      ]
     },
     "execution_count": 3,
     "metadata": {},
     "output_type": "execute_result"
    }
   ],
   "source": [
    "df.head()"
   ]
  },
  {
   "cell_type": "code",
   "execution_count": 6,
   "metadata": {},
   "outputs": [],
   "source": [
    "# df.to_csv('heart_disease.csv')"
   ]
  },
  {
   "cell_type": "code",
   "execution_count": 4,
   "metadata": {},
   "outputs": [
    {
     "data": {
      "text/plain": [
       "<bound method Index.unique of Index(['page', 'text', 'link', 'categories', 'topic'], dtype='object')>"
      ]
     },
     "execution_count": 4,
     "metadata": {},
     "output_type": "execute_result"
    }
   ],
   "source": [
    "df.columns.unique"
   ]
  },
  {
   "cell_type": "code",
   "execution_count": 5,
   "metadata": {},
   "outputs": [],
   "source": [
    "df['text'].to_csv('heart_basic-data.txt', header=None, index=None, sep=' ', mode='a')"
   ]
  }
 ],
 "metadata": {
  "interpreter": {
   "hash": "4bd624a0593993fe43ac4046b27b898fb2ef75c21c08f81e89e64ea0f51df676"
  },
  "kernelspec": {
   "display_name": "Python 3.9.7 64-bit ('tensorflow': conda)",
   "name": "python3"
  },
  "language_info": {
   "codemirror_mode": {
    "name": "ipython",
    "version": 3
   },
   "file_extension": ".py",
   "mimetype": "text/x-python",
   "name": "python",
   "nbconvert_exporter": "python",
   "pygments_lexer": "ipython3",
   "version": "3.9.7"
  },
  "orig_nbformat": 4
 },
 "nbformat": 4,
 "nbformat_minor": 2
}

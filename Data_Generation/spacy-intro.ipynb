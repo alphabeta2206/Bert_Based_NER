{
 "cells": [
  {
   "cell_type": "code",
   "execution_count": 28,
   "metadata": {},
   "outputs": [],
   "source": [
    "import spacy\n",
    "nlp=spacy.load('en_core_web_sm')"
   ]
  },
  {
   "cell_type": "code",
   "execution_count": 29,
   "metadata": {},
   "outputs": [],
   "source": [
    "with open (\"book.txt\",\"r\") as f:\n",
    "    text=f.read().replace(\"\\n\\n\",\" \").replace(\"\\n\",\" \")\n",
    "    chapters=text.split(\"CHAPTER\")[1:]"
   ]
  },
  {
   "cell_type": "code",
   "execution_count": 30,
   "metadata": {},
   "outputs": [],
   "source": [
    "chapter1=chapters[0]"
   ]
  },
  {
   "cell_type": "code",
   "execution_count": 31,
   "metadata": {},
   "outputs": [],
   "source": [
    "doc=nlp(chapter1)"
   ]
  },
  {
   "cell_type": "code",
   "execution_count": 32,
   "metadata": {},
   "outputs": [],
   "source": [
    "s=list(doc.sents)"
   ]
  },
  {
   "cell_type": "code",
   "execution_count": 50,
   "metadata": {},
   "outputs": [],
   "source": [
    "sentence=s[6]"
   ]
  },
  {
   "cell_type": "code",
   "execution_count": 54,
   "metadata": {},
   "outputs": [
    {
     "data": {
      "text/plain": [
       "(when she thought it over afterwards, it occurred to her that she ought to have wondered at this, but at the time it all seemed quite natural); but when the Rabbit actually _took a watch out of its waistcoat-pocket_, and looked at it, and then hurried on, Alice started to her feet, for it flashed across her mind that she had never before seen a rabbit with either a waistcoat-pocket, or a watch to take out of it, and burning with curiosity, she ran across the field after it, and fortunately was just in time to see it pop down a large rabbit-hole under the hedge."
      ]
     },
     "execution_count": 54,
     "metadata": {},
     "output_type": "execute_result"
    }
   ],
   "source": [
    "sentence"
   ]
  },
  {
   "cell_type": "code",
   "execution_count": 55,
   "metadata": {},
   "outputs": [],
   "source": [
    "ent=list(doc.ents)"
   ]
  },
  {
   "cell_type": "code",
   "execution_count": 56,
   "metadata": {},
   "outputs": [
    {
     "data": {
      "text/plain": [
       "[Alice,\n",
       " Alice,\n",
       " Rabbit,\n",
       " Alice,\n",
       " Alice,\n",
       " Alice,\n",
       " First,\n",
       " ORANGE MARMALADE,\n",
       " Alice,\n",
       " four thousand miles,\n",
       " Alice,\n",
       " Latitude,\n",
       " Alice,\n",
       " Latitude,\n",
       " Longitude,\n",
       " Antipathies,\n",
       " New Zealand,\n",
       " Australia,\n",
       " Alice,\n",
       " Dinah,\n",
       " Alice,\n",
       " Dinah,\n",
       " Dinah,\n",
       " the White Rabbit,\n",
       " Alice,\n",
       " Rabbit,\n",
       " Alice,\n",
       " three,\n",
       " Alice,\n",
       " first,\n",
       " second,\n",
       " about fifteen inches,\n",
       " Alice,\n",
       " Alice,\n",
       " Alice,\n",
       " half,\n",
       " Alice,\n",
       " DRINK ME,\n",
       " Alice,\n",
       " first,\n",
       " Alice,\n",
       " turkey,\n",
       " Alice,\n",
       " only ten inches,\n",
       " First,\n",
       " a few minutes,\n",
       " Alice,\n",
       " Alice,\n",
       " one,\n",
       " Alice,\n",
       " this minute,\n",
       " two,\n",
       " Alice,\n",
       " two,\n",
       " EAT ME,\n",
       " Alice,\n",
       " one,\n",
       " Alice]"
      ]
     },
     "execution_count": 56,
     "metadata": {},
     "output_type": "execute_result"
    }
   ],
   "source": [
    "ent"
   ]
  },
  {
   "cell_type": "code",
   "execution_count": 60,
   "metadata": {},
   "outputs": [],
   "source": [
    "sentence=s[1]\n",
    "ent=list(sentence.ents)"
   ]
  },
  {
   "cell_type": "code",
   "execution_count": 62,
   "metadata": {},
   "outputs": [
    {
     "name": "stdout",
     "output_type": "stream",
     "text": [
      "[Alice, Alice, Rabbit, Alice, Alice, Alice, First, ORANGE MARMALADE, Alice, four thousand miles, Alice, Latitude, Alice, Latitude, Longitude, Antipathies, New Zealand, Australia, Alice, Dinah, Alice, Dinah, Dinah, the White Rabbit, Alice, Rabbit, Alice, three, Alice, first, second, about fifteen inches, Alice, Alice, Alice, half, Alice, DRINK ME, Alice, first, Alice, turkey, Alice, only ten inches, First, a few minutes, Alice, Alice, one, Alice, this minute, two, Alice, two, EAT ME, Alice, one, Alice]\n"
     ]
    }
   ],
   "source": [
    "print(ent)"
   ]
  },
  {
   "cell_type": "code",
   "execution_count": 66,
   "metadata": {},
   "outputs": [
    {
     "name": "stdout",
     "output_type": "stream",
     "text": [
      "ORG\n",
      "Rabbit\n"
     ]
    }
   ],
   "source": [
    "# print(ent[0].label)\n",
    "print(ent[2].label_)\n",
    "print(ent[2].text)"
   ]
  },
  {
   "cell_type": "code",
   "execution_count": 68,
   "metadata": {},
   "outputs": [
    {
     "name": "stdout",
     "output_type": "stream",
     "text": [
      "Alice\n",
      "ORG\n",
      "Alice\n",
      "PERSON\n",
      "Rabbit\n",
      "ORG\n",
      "Alice\n",
      "PERSON\n",
      "Alice\n",
      "PERSON\n",
      "Alice\n",
      "ORG\n",
      "First\n",
      "ORDINAL\n",
      "ORANGE MARMALADE\n",
      "WORK_OF_ART\n",
      "Alice\n",
      "PERSON\n",
      "four thousand miles\n",
      "QUANTITY\n",
      "Alice\n",
      "PERSON\n",
      "Latitude\n",
      "PERSON\n",
      "Alice\n",
      "ORG\n",
      "Latitude\n",
      "PERSON\n",
      "Longitude\n",
      "PERSON\n",
      "Antipathies\n",
      "ORG\n",
      "New Zealand\n",
      "GPE\n",
      "Australia\n",
      "GPE\n",
      "Alice\n",
      "PERSON\n",
      "Dinah\n",
      "GPE\n",
      "Alice\n",
      "PERSON\n",
      "Dinah\n",
      "GPE\n",
      "Dinah\n",
      "GPE\n",
      "the White Rabbit\n",
      "FAC\n",
      "Alice\n",
      "PERSON\n",
      "Rabbit\n",
      "EVENT\n",
      "Alice\n",
      "PERSON\n",
      "three\n",
      "CARDINAL\n",
      "Alice\n",
      "PERSON\n",
      "first\n",
      "ORDINAL\n",
      "second\n",
      "ORDINAL\n",
      "about fifteen inches\n",
      "QUANTITY\n",
      "Alice\n",
      "PERSON\n",
      "Alice\n",
      "PERSON\n",
      "Alice\n",
      "PERSON\n",
      "half\n",
      "CARDINAL\n",
      "Alice\n",
      "PERSON\n",
      "DRINK ME\n",
      "WORK_OF_ART\n",
      "Alice\n",
      "PERSON\n",
      "first\n",
      "ORDINAL\n",
      "Alice\n",
      "PERSON\n",
      "turkey\n",
      "GPE\n",
      "Alice\n",
      "PERSON\n",
      "only ten inches\n",
      "QUANTITY\n",
      "First\n",
      "ORDINAL\n",
      "a few minutes\n",
      "TIME\n",
      "Alice\n",
      "PERSON\n",
      "Alice\n",
      "PERSON\n",
      "one\n",
      "CARDINAL\n",
      "Alice\n",
      "PERSON\n",
      "this minute\n",
      "TIME\n",
      "two\n",
      "CARDINAL\n",
      "Alice\n",
      "PERSON\n",
      "two\n",
      "CARDINAL\n",
      "EAT ME\n",
      "WORK_OF_ART\n",
      "Alice\n",
      "PERSON\n",
      "one\n",
      "CARDINAL\n",
      "Alice\n",
      "PERSON\n"
     ]
    }
   ],
   "source": [
    "for i in ent:\n",
    "    print(i.text)\n",
    "    print(i.label_)"
   ]
  },
  {
   "cell_type": "code",
   "execution_count": 70,
   "metadata": {},
   "outputs": [
    {
     "data": {
      "text/plain": [
       "['Alice',\n",
       " 'Alice',\n",
       " 'Alice',\n",
       " 'Alice',\n",
       " 'Alice',\n",
       " 'Latitude',\n",
       " 'Latitude',\n",
       " 'Longitude',\n",
       " 'Alice',\n",
       " 'Alice',\n",
       " 'Alice',\n",
       " 'Alice',\n",
       " 'Alice',\n",
       " 'Alice',\n",
       " 'Alice',\n",
       " 'Alice',\n",
       " 'Alice',\n",
       " 'Alice',\n",
       " 'Alice',\n",
       " 'Alice',\n",
       " 'Alice',\n",
       " 'Alice',\n",
       " 'Alice',\n",
       " 'Alice',\n",
       " 'Alice',\n",
       " 'Alice']"
      ]
     },
     "execution_count": 70,
     "metadata": {},
     "output_type": "execute_result"
    }
   ],
   "source": [
    "people=[]\n",
    "for x in ent:\n",
    "    if x.label_ == \"PERSON\":\n",
    "        people.append(x.text)\n",
    "people"
   ]
  },
  {
   "cell_type": "code",
   "execution_count": null,
   "metadata": {},
   "outputs": [],
   "source": [
    "#Noun-Extraction\n",
    " "
   ]
  }
 ],
 "metadata": {
  "interpreter": {
   "hash": "4bd624a0593993fe43ac4046b27b898fb2ef75c21c08f81e89e64ea0f51df676"
  },
  "kernelspec": {
   "display_name": "Python 3.9.7 64-bit ('tensorflow': conda)",
   "name": "python3"
  },
  "language_info": {
   "codemirror_mode": {
    "name": "ipython",
    "version": 3
   },
   "file_extension": ".py",
   "mimetype": "text/x-python",
   "name": "python",
   "nbconvert_exporter": "python",
   "pygments_lexer": "ipython3",
   "version": "3.9.7"
  },
  "orig_nbformat": 4
 },
 "nbformat": 4,
 "nbformat_minor": 2
}

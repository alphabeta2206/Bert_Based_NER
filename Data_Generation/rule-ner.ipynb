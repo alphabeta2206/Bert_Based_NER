{
 "cells": [
  {
   "cell_type": "code",
   "execution_count": 15,
   "metadata": {},
   "outputs": [],
   "source": [
    "import spacy \n",
    "import textacy\n",
    "import json\n",
    "import string"
   ]
  },
  {
   "cell_type": "code",
   "execution_count": 10,
   "metadata": {},
   "outputs": [
    {
     "name": "stdout",
     "output_type": "stream",
     "text": [
      "[\"Mr. and Mrs. Dursley, of number four, Privet Drive, were proud to say\\nthat they were perfectly normal, thank you very much. They were the last\\npeople you'd expect to be involved in anything strange or mysterious,\\nbecause they just didn't hold with such nonsense.\"]\n"
     ]
    }
   ],
   "source": [
    "with open(\"hp.txt\",\"r\",encoding='utf-8') as f:\n",
    "    text=f.read().split(\"\\n\\n\")[3:4]\n",
    "    #print(text)"
   ]
  },
  {
   "cell_type": "code",
   "execution_count": 9,
   "metadata": {},
   "outputs": [],
   "source": [
    "with open(\"character.json\",\"r\",encoding='utf-8') as f:\n",
    "    characters=json.load(f)\n",
    "    #print(characters)"
   ]
  },
  {
   "cell_type": "code",
   "execution_count": 16,
   "metadata": {},
   "outputs": [
    {
     "name": "stdout",
     "output_type": "stream",
     "text": [
      "Mr and Mrs Dursley of number four Privet Drive were proud to say that they were perfectly normal thank you very much They were the last people youd expect to be involved in anything strange or mysterious because they just didnt hold with such nonsense\n"
     ]
    }
   ],
   "source": [
    "#cleaning the text.\n",
    "for segment in text:\n",
    "    segment=segment.strip()\n",
    "    segment=segment.replace(\"\\n\",\" \")\n",
    "    table = str.maketrans(dict.fromkeys(string.punctuation))\n",
    "    segment=segment.translate(table) \n",
    "    print(segment)"
   ]
  }
 ],
 "metadata": {
  "interpreter": {
   "hash": "4bd624a0593993fe43ac4046b27b898fb2ef75c21c08f81e89e64ea0f51df676"
  },
  "kernelspec": {
   "display_name": "Python 3.9.7 64-bit ('tensorflow': conda)",
   "name": "python3"
  },
  "language_info": {
   "codemirror_mode": {
    "name": "ipython",
    "version": 3
   },
   "file_extension": ".py",
   "mimetype": "text/x-python",
   "name": "python",
   "nbconvert_exporter": "python",
   "pygments_lexer": "ipython3",
   "version": "3.9.7"
  },
  "orig_nbformat": 4
 },
 "nbformat": 4,
 "nbformat_minor": 2
}
